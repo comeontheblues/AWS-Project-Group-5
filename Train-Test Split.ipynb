{
 "cells": [
  {
   "cell_type": "code",
   "execution_count": 1,
   "id": "285d28d4",
   "metadata": {},
   "outputs": [
    {
     "name": "stdout",
     "output_type": "stream",
     "text": [
      "sagemaker.config INFO - Not applying SDK defaults from location: /etc/xdg/sagemaker/config.yaml\n",
      "sagemaker.config INFO - Not applying SDK defaults from location: /home/ec2-user/.config/sagemaker/config.yaml\n",
      "Training set uploaded to: s3://pre-processed-aws-credit-data-train/train_no_header.csv\n",
      "Test set uploaded to: s3://pre-processed-aws-credit-data-test/test_no_header.csv\n"
     ]
    }
   ],
   "source": [
    "import pandas as pd\n",
    "from sklearn.model_selection import train_test_split\n",
    "from sagemaker.s3 import S3Uploader, S3Downloader\n",
    "\n",
    "# Define your S3 bucket and file path\n",
    "input_bucket_name = 'pre-processed-aws-credit-data-final'\n",
    "file_name = 'processed-data.csv'\n",
    "s3_uri = f's3://{input_bucket_name}/{file_name}'\n",
    "\n",
    "# Download the file from S3 to the notebook instance\n",
    "local_path = 'processed-data.csv'\n",
    "S3Downloader.download(s3_uri, '.')\n",
    "\n",
    "# Load the dataset\n",
    "df = pd.read_csv(local_path)\n",
    "\n",
    "# Split the dataset into training and test sets using an 80-20 split\n",
    "train_df, test_df = train_test_split(df, test_size=0.2, random_state=42)\n",
    "\n",
    "# Save the splits to local files without headers\n",
    "train_df.to_csv('train_no_header.csv', index=False, header=False)\n",
    "test_df.to_csv('test_no_header.csv', index=False, header=False)\n",
    "\n",
    "# Define the output buckets for training and test sets\n",
    "train_bucket = 'pre-processed-aws-credit-data-train'\n",
    "test_bucket = 'pre-processed-aws-credit-data-test'\n",
    "\n",
    "# Define S3 paths for the uploaded files without headers\n",
    "train_s3_path_no_header = f's3://{train_bucket}/train_no_header.csv'\n",
    "test_s3_path_no_header = f's3://{test_bucket}/test_no_header.csv'\n",
    "\n",
    "# Upload the files to S3\n",
    "S3Uploader.upload('train_no_header.csv', train_s3_path_no_header)\n",
    "S3Uploader.upload('test_no_header.csv', test_s3_path_no_header)\n",
    "\n",
    "print(f\"Training set uploaded to: {train_s3_path_no_header}\")\n",
    "print(f\"Test set uploaded to: {test_s3_path_no_header}\")\n"
   ]
  },
  {
   "cell_type": "code",
   "execution_count": null,
   "id": "8d390435",
   "metadata": {},
   "outputs": [],
   "source": []
  },
  {
   "cell_type": "code",
   "execution_count": null,
   "id": "d15a5fef",
   "metadata": {},
   "outputs": [],
   "source": []
  }
 ],
 "metadata": {
  "kernelspec": {
   "display_name": "conda_python3",
   "language": "python",
   "name": "conda_python3"
  },
  "language_info": {
   "codemirror_mode": {
    "name": "ipython",
    "version": 3
   },
   "file_extension": ".py",
   "mimetype": "text/x-python",
   "name": "python",
   "nbconvert_exporter": "python",
   "pygments_lexer": "ipython3",
   "version": "3.10.13"
  }
 },
 "nbformat": 4,
 "nbformat_minor": 5
}
