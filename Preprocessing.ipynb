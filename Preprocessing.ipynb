{
 "cells": [
  {
   "cell_type": "code",
   "execution_count": 1,
   "id": "d5a4ee6c",
   "metadata": {},
   "outputs": [
    {
     "name": "stdout",
     "output_type": "stream",
     "text": [
      "sagemaker.config INFO - Not applying SDK defaults from location: /etc/xdg/sagemaker/config.yaml\n",
      "sagemaker.config INFO - Not applying SDK defaults from location: /home/ec2-user/.config/sagemaker/config.yaml\n"
     ]
    },
    {
     "name": "stderr",
     "output_type": "stream",
     "text": [
      "INFO:sagemaker:Creating processing-job with name sagemaker-scikit-learn-2024-04-02-20-13-05-943\n"
     ]
    },
    {
     "name": "stdout",
     "output_type": "stream",
     "text": [
      ".................................................................................\n",
      ".."
     ]
    }
   ],
   "source": [
    "import sagemaker\n",
    "from sagemaker.processing import ScriptProcessor, ProcessingInput, ProcessingOutput\n",
    "from sagemaker import image_uris\n",
    "\n",
    "role = 'arn:aws:iam::533267019472:role/sagemaker-sue'\n",
    "region = 'eu-west-2'\n",
    "framework_version = '0.23-1'\n",
    "image_uri = image_uris.retrieve(framework='sklearn', region=region, version=framework_version, image_scope='inference')\n",
    "\n",
    "script_uri = 's3://aws-project-preprocess/preprocessing.py'  # Path to your preprocessing script in S3\n",
    "\n",
    "# Initialize the ScriptProcessor with the retrieved scikit-learn image URI\n",
    "script_processor = ScriptProcessor(\n",
    "    command=['python3'],\n",
    "    image_uri=image_uri,\n",
    "    role=role,\n",
    "    instance_count=1,\n",
    "    instance_type='ml.t3.medium'\n",
    ")\n",
    "\n",
    "# Adjusted to explicitly pass the input and output paths as arguments\n",
    "script_processor.run(\n",
    "    code=script_uri,\n",
    "    arguments=[  # Add the arguments parameter here\n",
    "        '--input-data', '/opt/ml/processing/input',\n",
    "        '--output-data', '/opt/ml/processing/output'\n",
    "    ],\n",
    "    inputs=[ProcessingInput(\n",
    "        source='s3://aws-credit-data-final/AWS_credit_score.csv',\n",
    "        destination='/opt/ml/processing/input'  # This maps to the '--input-data' argument\n",
    "    )],\n",
    "    outputs=[ProcessingOutput(\n",
    "        source='/opt/ml/processing/output',  # This maps to the '--output-data' argument\n",
    "        destination='s3://pre-processed-aws-credit-data-final/'\n",
    "    )]\n",
    ")\n"
   ]
  },
  {
   "cell_type": "code",
   "execution_count": null,
   "id": "3e585e8c",
   "metadata": {},
   "outputs": [],
   "source": []
  }
 ],
 "metadata": {
  "kernelspec": {
   "display_name": "conda_python3",
   "language": "python",
   "name": "conda_python3"
  },
  "language_info": {
   "codemirror_mode": {
    "name": "ipython",
    "version": 3
   },
   "file_extension": ".py",
   "mimetype": "text/x-python",
   "name": "python",
   "nbconvert_exporter": "python",
   "pygments_lexer": "ipython3",
   "version": "3.10.13"
  }
 },
 "nbformat": 4,
 "nbformat_minor": 5
}
